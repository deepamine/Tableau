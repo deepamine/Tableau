{
 "cells": [
  {
   "cell_type": "code",
   "execution_count": 65,
   "metadata": {},
   "outputs": [],
   "source": [
    "from selenium import webdriver\n",
    "from selenium.webdriver.common.keys import Keys\n",
    "from selenium.webdriver.support.ui import WebDriverWait\n",
    "from selenium.webdriver.support import expected_conditions as EC\n",
    "from selenium.webdriver.common.by import By\n",
    "\n",
    "from bs4 import BeautifulSoup\n",
    "\n",
    "import pandas as pd\n",
    "\n",
    "import time"
   ]
  },
  {
   "cell_type": "code",
   "execution_count": 78,
   "metadata": {},
   "outputs": [
    {
     "name": "stdout",
     "output_type": "stream",
     "text": [
      "0            Tarzan Boy\n",
      "1          Life Goes On\n",
      "2         Me at the zoo\n",
      "3                guitar\n",
      "4                  Hurt\n",
      "            ...        \n",
      "75         Life Is Good\n",
      "76                Gooba\n",
      "77          Genda Phool\n",
      "78    How You Like That\n",
      "79                Yummy\n",
      "Name: Video name, Length: 80, dtype: object\n"
     ]
    }
   ],
   "source": [
    "yt_list = pd.read_excel('/Users/deepamine/yt_most_view_list.xlsx')\n",
    "video_list = yt_list['Video name']\n",
    "print(video_list)\n",
    "url_list = []"
   ]
  },
  {
   "cell_type": "code",
   "execution_count": 87,
   "metadata": {},
   "outputs": [
    {
     "name": "stdout",
     "output_type": "stream",
     "text": [
      "https://www.youtube.com/watch?v=_r0n9Dv6XnY\n",
      "https://www.youtube.com/watch?v=3HMRLEceXMM\n",
      "https://www.youtube.com/watch?v=jNQXAC9IVRw\n",
      "https://www.youtube.com/watch?v=jbKq3BTjVlw\n",
      "https://www.youtube.com/watch?v=8AHCfZTRGiI\n",
      "https://www.youtube.com/watch?v=1i7p0vTGcBk\n",
      "https://www.youtube.com/watch?v=Lg_Pn45gyMs\n",
      "https://www.youtube.com/watch?v=vc6vs-l5dkc\n",
      "https://www.youtube.com/watch?v=p-rSdt0aFuw\n",
      "https://www.youtube.com/watch?v=Q8Tiz6INF7I\n",
      "https://www.youtube.com/watch?v=astISOttCQ0\n",
      "https://www.youtube.com/watch?v=kXYiU_JCYtU\n",
      "https://www.youtube.com/watch?v=w7w59Zp8bEM\n",
      "https://www.youtube.com/watch?v=_OBlgSz8sSM\n",
      "https://www.youtube.com/watch?v=8sgycukafqQ\n",
      "https://www.youtube.com/watch?v=fJ9rUzIMcZQ\n",
      "https://www.youtube.com/watch?v=kTHNpusq654\n",
      "https://www.youtube.com/watch?v=59GM_xjPhco\n",
      "https://www.youtube.com/watch?v=R8UAFE21BN4\n",
      "https://www.youtube.com/watch?v=HgzGwKwLmgM\n",
      "https://www.youtube.com/watch?v=k85mRPqvMbE\n",
      "https://www.youtube.com/watch?v=ZsuX9aSst-4\n",
      "https://www.youtube.com/watch?v=qrO4YZeyl0I\n",
      "https://www.youtube.com/watch?v=1w7OgIMMRc4\n",
      "https://www.youtube.com/watch?v=hTWKbfoikeg\n",
      "https://www.youtube.com/watch?v=pRpeEdMmmQ0\n",
      "https://www.youtube.com/watch?v=kffacxfA7G4\n",
      "https://www.youtube.com/watch?v=uelHwf8o7_U\n",
      "https://www.youtube.com/watch?v=rYEDA3JcQqw\n",
      "https://www.youtube.com/watch?v=LjhCEhWiKXk\n",
      "https://www.youtube.com/watch?v=fLexgOxsZu0\n",
      "https://www.youtube.com/watch?v=KQ6zr6kCPj8\n",
      "https://www.youtube.com/watch?v=FSqNp2F5YRo\n",
      "https://www.youtube.com/watch?v=t4H_Zoh7G5A\n",
      "https://www.youtube.com/watch?v=hLQl3WQQoQ0\n",
      "https://www.youtube.com/watch?v=qBp1rCz_yQU\n",
      "https://www.youtube.com/watch?v=9bZkp7q19f0\n",
      "https://www.youtube.com/watch?v=RBumgq5yVrA\n",
      "https://www.youtube.com/watch?v=lWA2pjMjpBs\n",
      "https://www.youtube.com/watch?v=QK8mJJJvaes\n",
      "https://www.youtube.com/watch?v=CevxZvSJLk8\n",
      "https://www.youtube.com/watch?v=5vilULw-9Gg\n",
      "https://www.youtube.com/watch?v=5y_KJAg8bHI\n",
      "https://www.youtube.com/watch?v=PIh2xe4jnpk\n",
      "https://www.youtube.com/watch?v=450p7goxZqg\n",
      "https://www.youtube.com/watch?v=OPf0YbXqDm0\n",
      "https://www.youtube.com/watch?v=lp-EO5I60KA\n",
      "https://www.youtube.com/watch?v=hq3yfQnllfQ\n",
      "https://www.youtube.com/watch?v=nfWlot6h_JM\n",
      "https://www.youtube.com/watch?v=NUsoVlDFqZg\n",
      "https://www.youtube.com/watch?v=RgKAFK5djSk\n",
      "https://www.youtube.com/watch?v=fRh_vgS2dFE\n",
      "https://www.youtube.com/watch?v=09R8_2nJtjg\n",
      "https://www.youtube.com/watch?v=YqeW9_5kURI\n",
      "https://www.youtube.com/watch?v=60ItHLz5WEA\n",
      "https://www.youtube.com/watch?v=XqZsoesa55w\n",
      "https://www.youtube.com/watch?v=7GjOOyBoELw\n",
      "https://www.youtube.com/watch?v=6Mgqbai3fKo\n",
      "https://www.youtube.com/watch?v=PT2_F-1esPk\n",
      "https://www.youtube.com/watch?v=3AtDnEC4zak\n",
      "https://www.youtube.com/watch?v=kJQP7kiw5Fk\n",
      "https://www.youtube.com/watch?v=JGwWNGJdvx8\n",
      "https://www.youtube.com/watch?v=wnJ6LuUFpMo\n",
      "https://www.youtube.com/watch?v=2Vv-BfVoq4g\n",
      "https://www.youtube.com/watch?v=k2qgadSvNyU\n",
      "https://www.youtube.com/watch?v=33vMfetpA2w\n",
      "https://www.youtube.com/watch?v=ZzAm13KsBCc\n",
      "https://www.youtube.com/watch?v=aJOTlE1K90k\n",
      "https://www.youtube.com/watch?v=FzG4uDgje3M\n",
      "https://www.youtube.com/watch?v=DruYNHN4FYY\n",
      "https://www.youtube.com/watch?v=DiItGE3eAyQ\n",
      "https://www.youtube.com/watch?v=p7bfOZek9t4\n",
      "https://www.youtube.com/watch?v=0VR3dfZf9Yg\n",
      "https://www.youtube.com/watch?v=q0hyYWKXF0Q\n",
      "https://www.youtube.com/watch?v=w2C6RhQBYlg\n",
      "https://www.youtube.com/watch?v=l0U7SxXHkPY\n",
      "https://www.youtube.com/watch?v=pPw_izFr5PA\n",
      "https://www.youtube.com/watch?v=SD4Z8dlZPd8\n",
      "https://www.youtube.com/watch?v=ioNng23DkIM\n",
      "https://www.youtube.com/watch?v=8EJ3zbKTWQ8\n"
     ]
    }
   ],
   "source": [
    "chrome_driver = '/Users/deepamine/Downloads/chromedriver'\n",
    "\n",
    "\n",
    "for i in video_list:\n",
    "    driver = webdriver.Chrome(chrome_driver)\n",
    "    driver.get('https://www.youtube.com')\n",
    "\n",
    "    search_bar = driver.find_elements_by_xpath('/html/body/ytd-app/div/div/ytd-masthead/div[3]/div[2]/ytd-searchbox/form/div/div[1]/input')[0]\n",
    "\n",
    "    time.sleep(2)\n",
    "    search_bar.send_keys(i)\n",
    "    search_bar.send_keys(Keys.RETURN)\n",
    "    \n",
    "    time.sleep(2)\n",
    "    driver.switch_to.window(driver.window_handles[-1])\n",
    "\n",
    "    search_name = driver.find_elements_by_xpath('/html/body/ytd-app/div/ytd-page-manager/ytd-search/div[1]/ytd-two-column-search-results-renderer/div/ytd-section-list-renderer/div[2]/ytd-item-section-renderer/div[3]/ytd-video-renderer[1]/div[1]/div/div[1]/div/h3/a/yt-formatted-string')[0]\n",
    "\n",
    "    time.sleep(2)\n",
    "    search_name.click()\n",
    "\n",
    "    print(driver.current_url)\n",
    "    \n",
    "    time.sleep(2)\n",
    "    url_list.append(driver.current_url)\n",
    "    time.sleep(2)\n",
    "    driver.close()\n",
    "    time.sleep(2)"
   ]
  },
  {
   "cell_type": "code",
   "execution_count": 69,
   "metadata": {},
   "outputs": [
    {
     "name": "stdout",
     "output_type": "stream",
     "text": [
      "https://www.youtube.com/watch?v=ioNng23DkIM\n"
     ]
    }
   ],
   "source": [
    "video_list['Url'] = url_list"
   ]
  }
 ],
 "metadata": {
  "kernelspec": {
   "display_name": "Python 3",
   "language": "python",
   "name": "python3"
  },
  "language_info": {
   "codemirror_mode": {
    "name": "ipython",
    "version": 3
   },
   "file_extension": ".py",
   "mimetype": "text/x-python",
   "name": "python",
   "nbconvert_exporter": "python",
   "pygments_lexer": "ipython3",
   "version": "3.7.4"
  }
 },
 "nbformat": 4,
 "nbformat_minor": 2
}
